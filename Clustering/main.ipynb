{
 "cells": [
  {
   "cell_type": "code",
   "execution_count": 1,
   "metadata": {},
   "outputs": [],
   "source": [
    "# Importing necessary packages\n",
    "import torch\n",
    "from torchvision import datasets, transforms\n",
    "from sklearn.decomposition import PCA\n",
    "import matplotlib.pyplot as plt\n",
    "import numpy as np\n",
    "from sklearn.cluster import KMeans as skl_KMeans\n",
    "\n",
    "from classes.KMeans import KMeans"
   ]
  },
  {
   "cell_type": "markdown",
   "metadata": {},
   "source": [
    "### Loading and Pre-processing Data:"
   ]
  },
  {
   "cell_type": "code",
   "execution_count": 3,
   "metadata": {},
   "outputs": [],
   "source": [
    "# Load the MNIST dataset\n",
    "transform = transforms.Compose([transforms.ToTensor()])  # Converting image to tensor\n",
    "train_dataset = datasets.MNIST(root='./data', train=True, transform=transform, download=True)  # Loading train data\n",
    "test_dataset = datasets.MNIST(root='./data', train=False, transform=transform, download=True)  # Loading test data\n",
    "\n",
    "# Preprocess the data\n",
    "train_X = train_dataset.data.view(train_dataset.data.size(0), -1).numpy()  # Flattening the images\n",
    "train_y = train_dataset.targets.numpy()  # Converting tensor to numpy array\n",
    "\n",
    "test_X = test_dataset.data.view(test_dataset.data.size(0), -1).numpy()  # Flattening the images\n",
    "test_y = test_dataset.targets.numpy()  # Converting tensor to numpy array\n",
    "\n",
    "\n",
    "\"\"\"\n",
    "Here we are going to extract 500 data points for each class:\n",
    "\"\"\"\n",
    "num_data = 500\n",
    "num_classes = 10\n",
    "\n",
    "# Initialize variables to keep track of image counts for each class\n",
    "class_counts = np.zeros(num_classes, dtype=int)\n",
    "\n",
    "# Initialize lists to store masked images and labels\n",
    "masked_images = []\n",
    "masked_labels = []\n",
    "\n",
    "# Iterate through the dataset and mask images\n",
    "for image, label in zip(train_X, train_y):\n",
    "    if class_counts[label] < num_data:\n",
    "        masked_images.append(image)\n",
    "        masked_labels.append(label)\n",
    "        class_counts[label] += 1\n",
    "\n",
    "    # Break out of loop if 500 images have been collected for each class\n",
    "    if np.all(class_counts >= num_data):\n",
    "        break\n",
    "\n",
    "# Convert lists to NumPy arrays\n",
    "train_X = np.array(masked_images)\n",
    "train_y = np.array(masked_labels)\n",
    "\n",
    "\n",
    "def normalize_data(data):\n",
    "    max_ = np.max(data, axis=0)\n",
    "    min_ = np.min(data, axis=0)\n",
    "\n",
    "    range_values = max_ - min_\n",
    "    range_values[range_values == 0] = 1 \n",
    "\n",
    "    normalized_data = (data - min_) / range_values\n",
    "\n",
    "    return normalized_data\n",
    "\n",
    "# Normalizing data\n",
    "train_X = normalize_data(train_X)"
   ]
  },
  {
   "cell_type": "markdown",
   "metadata": {},
   "source": [
    "### KMeans clustering example:"
   ]
  },
  {
   "cell_type": "code",
   "execution_count": 11,
   "metadata": {},
   "outputs": [
    {
     "name": "stdout",
     "output_type": "stream",
     "text": [
      "Converged\n"
     ]
    },
    {
     "name": "stderr",
     "output_type": "stream",
     "text": [
      "/Users/alilesani/anaconda3/envs/ML/lib/python3.11/site-packages/sklearn/cluster/_kmeans.py:870: FutureWarning: The default value of `n_init` will change from 10 to 'auto' in 1.4. Set the value of `n_init` explicitly to suppress the warning\n",
      "  warnings.warn(\n"
     ]
    },
    {
     "name": "stdout",
     "output_type": "stream",
     "text": [
      "Internal cluster distance for k = 10 is: 195795.110037\n",
      "Internal cluster distance for k = 10 (sklearn) is: 194619.342969\n",
      "\n"
     ]
    }
   ],
   "source": [
    "n_clusters = 10\n",
    "\n",
    "kmeans = KMeans(n_clusters=n_clusters, max_iters=100, similarity=\"cosine\")\n",
    "kmeans.fit(train_X)\n",
    "clus_dist = kmeans.internal_cluster_dist()\n",
    "\n",
    "kmeans_sk = skl_KMeans(n_clusters=n_clusters)\n",
    "kmeans_sk.fit(train_X)\n",
    "clus_dist_sk = kmeans_sk.inertia_\n",
    "\n",
    "print(\"Internal cluster distance for k = 10 is: %f\" %(clus_dist))\n",
    "print(\"Internal cluster distance for k = 10 (sklearn) is: %f\" %(clus_dist_sk), end=\"\\n\\n\")"
   ]
  }
 ],
 "metadata": {
  "kernelspec": {
   "display_name": "ML",
   "language": "python",
   "name": "python3"
  },
  "language_info": {
   "codemirror_mode": {
    "name": "ipython",
    "version": 3
   },
   "file_extension": ".py",
   "mimetype": "text/x-python",
   "name": "python",
   "nbconvert_exporter": "python",
   "pygments_lexer": "ipython3",
   "version": "3.11.7"
  }
 },
 "nbformat": 4,
 "nbformat_minor": 2
}
