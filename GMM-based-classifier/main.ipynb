{
 "cells": [
  {
   "cell_type": "code",
   "execution_count": 1,
   "metadata": {},
   "outputs": [],
   "source": [
    "# Importing necessary packages\n",
    "import torch\n",
    "from torchvision import datasets, transforms\n",
    "from sklearn.decomposition import PCA\n",
    "import matplotlib.pyplot as plt\n",
    "import numpy as np\n",
    "\n",
    "from classes.GMMBasedClassifier import GMMBasedClassifier\n",
    "from classes.utils import *"
   ]
  },
  {
   "cell_type": "markdown",
   "metadata": {},
   "source": [
    "### Loading and Pre-processing Data:"
   ]
  },
  {
   "cell_type": "code",
   "execution_count": 2,
   "metadata": {},
   "outputs": [],
   "source": [
    "# Load the MNIST dataset\n",
    "transform = transforms.Compose([transforms.ToTensor()])  # Converting image to tensor\n",
    "train_dataset = datasets.MNIST(root='./data', train=True, transform=transform, download=True)  # Loading train data\n",
    "test_dataset = datasets.MNIST(root='./data', train=False, transform=transform, download=True)  # Loading test data\n",
    "\n",
    "# Preprocess the data\n",
    "train_X = train_dataset.data.view(train_dataset.data.size(0), -1).numpy()  # Flattening the images\n",
    "train_y = train_dataset.targets.numpy()  # Converting tensor to numpy array\n",
    "\n",
    "test_X = test_dataset.data.view(test_dataset.data.size(0), -1).numpy()  # Flattening the images\n",
    "test_y = test_dataset.targets.numpy()  # Converting tensor to numpy array\n",
    "\n",
    "\n",
    "# Applying PCA\n",
    "pca = PCA(n_components=50)\n",
    "pca.fit(train_X)\n",
    "train_X = pca.transform(train_X)\n",
    "test_X = pca.transform(test_X)\n",
    "\n",
    "# Normalizing data\n",
    "train_X = normalize_data(train_X)\n",
    "test_X = normalize_data(test_X)"
   ]
  },
  {
   "cell_type": "markdown",
   "metadata": {},
   "source": [
    "### GMM-based Classifier Example:"
   ]
  },
  {
   "cell_type": "code",
   "execution_count": 3,
   "metadata": {},
   "outputs": [
    {
     "name": "stdout",
     "output_type": "stream",
     "text": [
      "Accuracy of GMM: 0.90490\n"
     ]
    }
   ],
   "source": [
    "# Instantiating GMMBasedClassifier object\n",
    "n_components = 5\n",
    "ggm = GMMBasedClassifier(n_components=n_components, max_iters=500)\n",
    "ggm.fit(train_X, train_y) # Fit Model\n",
    "\n",
    "y_prid = ggm.predict(test_X)\n",
    "acc_gmm = np.mean(y_prid == test_y)\n",
    "\n",
    "print(\"Accuracy of GMM: %0.5f\" %(acc_gmm))"
   ]
  }
 ],
 "metadata": {
  "kernelspec": {
   "display_name": "ML",
   "language": "python",
   "name": "python3"
  },
  "language_info": {
   "codemirror_mode": {
    "name": "ipython",
    "version": 3
   },
   "file_extension": ".py",
   "mimetype": "text/x-python",
   "name": "python",
   "nbconvert_exporter": "python",
   "pygments_lexer": "ipython3",
   "version": "3.11.7"
  }
 },
 "nbformat": 4,
 "nbformat_minor": 2
}
