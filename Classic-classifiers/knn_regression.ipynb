{
 "cells": [
  {
   "cell_type": "code",
   "execution_count": 18,
   "metadata": {},
   "outputs": [],
   "source": [
    "# Importing necessary packages\n",
    "import numpy as np\n",
    "import pandas as pd\n",
    "\n",
    "from classes.KNN import KNN"
   ]
  },
  {
   "cell_type": "markdown",
   "metadata": {},
   "source": [
    "### Loading and Pre-processing Data:"
   ]
  },
  {
   "cell_type": "code",
   "execution_count": 19,
   "metadata": {},
   "outputs": [
    {
     "name": "stdout",
     "output_type": "stream",
     "text": [
      "kNN MSE for k = 3 is: 3.83854\n"
     ]
    }
   ],
   "source": [
    "# Reading data from CSV file\n",
    "train_X = pd.read_csv(\"./regression_data/X_train_F.csv\", header=None).to_numpy()\n",
    "train_y = pd.read_csv(\"./regression_data/Y_train_F.csv\", header=None).to_numpy()\n",
    "test_X = pd.read_csv(\"./regression_data/X_test_F.csv\", header=None).to_numpy()\n",
    "test_y = pd.read_csv(\"./regression_data/Y_test_F.csv\", header=None).to_numpy()\n",
    "\n",
    "# Instantiating KNN object\n",
    "k = 3\n",
    "knn_reg = KNN(k = 3, _type=\"regression\")\n",
    "knn_reg.fit(train_X, train_y) # Fitting Model\n",
    "\n",
    "y_knn_predicted = knn_reg.predict(test_X)\n",
    "mse = np.mean((y_knn_predicted - test_y.squeeze())**2) # Evaluating mean square error\n",
    "\n",
    "print(\"kNN MSE for k = %d is: %0.5f\" %(k, mse))"
   ]
  }
 ],
 "metadata": {
  "kernelspec": {
   "display_name": "ML",
   "language": "python",
   "name": "python3"
  },
  "language_info": {
   "codemirror_mode": {
    "name": "ipython",
    "version": 3
   },
   "file_extension": ".py",
   "mimetype": "text/x-python",
   "name": "python",
   "nbconvert_exporter": "python",
   "pygments_lexer": "ipython3",
   "version": "3.11.7"
  }
 },
 "nbformat": 4,
 "nbformat_minor": 2
}
